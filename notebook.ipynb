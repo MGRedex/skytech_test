{
 "cells": [
  {
   "cell_type": "code",
   "execution_count": null,
   "metadata": {},
   "outputs": [],
   "source": [
    "import pyspark\n",
    "from pyspark import pandas as pd\n",
    "from pyspark.sql import SparkSession\n",
    "from pyspark.sql import functions as F"
   ]
  },
  {
   "cell_type": "code",
   "execution_count": 2,
   "metadata": {},
   "outputs": [],
   "source": [
    "DATA_PATH = \"A:\\\\PostgreSQL15\\\\data\\\\randdata.csv\"\n",
    "SPARK_CONF = {\n",
    "    \"spark.driver.memory\": \"20g\",\n",
    "    \"spark.executor.memory\": \"20g\",\n",
    "    # \"spark.driver.maxResultSize\": \"7g\", \n",
    "}"
   ]
  },
  {
   "cell_type": "code",
   "execution_count": 3,
   "metadata": {},
   "outputs": [],
   "source": [
    "spark = SparkSession.builder.config(\n",
    "    map = SPARK_CONF\n",
    ").getOrCreate()"
   ]
  },
  {
   "cell_type": "markdown",
   "metadata": {},
   "source": [
    "### Raw data"
   ]
  },
  {
   "cell_type": "code",
   "execution_count": 4,
   "metadata": {},
   "outputs": [],
   "source": [
    "spark_df = spark.read.csv(\n",
    "    DATA_PATH,\n",
    "    header = True,\n",
    "    schema = \"id int, randint int, randtext string, randdatetime timestamp\",\n",
    "    nullValue = \"null\",\n",
    ")"
   ]
  },
  {
   "cell_type": "code",
   "execution_count": 11,
   "metadata": {},
   "outputs": [
    {
     "name": "stdout",
     "output_type": "stream",
     "text": [
      "+--------+-------+--------------------+-------------------+\n",
      "|      id|randint|            randtext|       randdatetime|\n",
      "+--------+-------+--------------------+-------------------+\n",
      "|19998455|   5571|a01f5d2af3b46c9eb...|2015-11-06 00:14:33|\n",
      "|19998456|   8337|    febadbbcdffbcdcf|2018-01-15 13:07:55|\n",
      "|19998457|    585|       edcebdacafbae|2018-05-12 00:46:45|\n",
      "|19998458|   7508|  cccfceacdedacdcfdd|2019-10-23 10:11:34|\n",
      "|19998459|   2127|    bdffdaddddeaecdc|2022-01-03 09:05:43|\n",
      "|    NULL|   NULL|                NULL|               NULL|\n",
      "|19998461|   8783|    fefbaaafcabcbddf|2020-08-28 12:09:38|\n",
      "|19998462|   1841|714396d66a0146f7e...|2021-06-10 03:40:21|\n",
      "|19998463|   7720|          cddaceedfa|2014-05-07 16:44:16|\n",
      "|19998464|   3627|c1f21043dbdb39f84...|2015-03-21 09:38:16|\n",
      "|19998465|   7270|   acaaeacbbfbbaeddf|2021-05-15 22:53:05|\n",
      "+--------+-------+--------------------+-------------------+\n",
      "only showing top 11 rows\n",
      "\n"
     ]
    }
   ],
   "source": [
    "spark_df.show(11)"
   ]
  },
  {
   "cell_type": "markdown",
   "metadata": {},
   "source": [
    "### Processed data"
   ]
  },
  {
   "cell_type": "code",
   "execution_count": 5,
   "metadata": {},
   "outputs": [],
   "source": [
    "spark_df_processed = spark_df \\\n",
    ".dropna(\n",
    "    how = \"all\",\n",
    ") \\\n",
    ".dropDuplicates() \\\n",
    ".filter(\n",
    "    (F.hour(\"randdatetime\") < 1) | (F.hour(\"randdatetime\") > 2),\n",
    ") \\\n",
    ".withColumn(\n",
    "    \"randtext\",\n",
    "    F.regexp_replace(\"randtext\", \"^[^0-9]+$\", \"\"),\n",
    ") \\\n",
    ".cache()"
   ]
  },
  {
   "cell_type": "code",
   "execution_count": 6,
   "metadata": {},
   "outputs": [
    {
     "data": {
      "text/plain": [
       "61631051"
      ]
     },
     "execution_count": 6,
     "metadata": {},
     "output_type": "execute_result"
    }
   ],
   "source": [
    "spark_df_processed.count()"
   ]
  },
  {
   "cell_type": "code",
   "execution_count": 10,
   "metadata": {},
   "outputs": [
    {
     "name": "stdout",
     "output_type": "stream",
     "text": [
      "+--------+-------+--------------------+-------------------+\n",
      "|      id|randint|            randtext|       randdatetime|\n",
      "+--------+-------+--------------------+-------------------+\n",
      "|19998874|   8611|                    |2021-01-09 17:51:35|\n",
      "|19999248|   8439|8e21034c5b5d15486...|2021-02-10 12:09:47|\n",
      "|19999426|   8450|de83a92edbad42ce9...|2020-08-23 06:18:21|\n",
      "|20000296|    556|18a566b9521bfe547...|2013-06-11 03:34:00|\n",
      "|20000606|   1766|319ec138b82fe9315...|2019-01-04 16:17:31|\n",
      "|20001146|   1426|                    |2013-05-05 14:11:41|\n",
      "|20001639|   1957|                    |2018-09-02 04:04:18|\n",
      "|20001878|   8065|                    |2015-09-25 19:20:09|\n",
      "|20002086|   2058|                    |2018-11-04 13:54:52|\n",
      "|20002576|   5801|054be40de042b361d...|2015-06-24 22:29:39|\n",
      "|20002825|   7900|                    |2020-04-06 07:30:14|\n",
      "+--------+-------+--------------------+-------------------+\n",
      "only showing top 11 rows\n",
      "\n"
     ]
    }
   ],
   "source": [
    "spark_df_processed.show(11)"
   ]
  },
  {
   "cell_type": "markdown",
   "metadata": {},
   "source": [
    "### Aggregated data"
   ]
  },
  {
   "cell_type": "code",
   "execution_count": 7,
   "metadata": {},
   "outputs": [],
   "source": [
    "spark_df_aggregated = spark_df_processed \\\n",
    ".groupBy(\n",
    "    F.hour(\"randdatetime\").alias(\"randdatetimehour\"),\n",
    ") \\\n",
    ".agg(\n",
    "    F.median(\"randint\").alias(\"randintmedian\"),\n",
    "    F.mean(\"randint\").alias(\"randintmean\"),\n",
    "    F.countDistinct(\"randtext\").alias(\"randtextdistinct\"),\n",
    ") \\\n",
    ".cache()\n",
    "\n",
    "# SQL\n",
    "# spark_df_processed.createOrReplaceTempView(\"spark_df_processed\")\n",
    "# spark_df_aggregated = spark.sql('''\n",
    "#     SELECT\n",
    "#         hour(randdatetime) AS randdatetimehour,\n",
    "#         median(randint) AS randintmedian,\n",
    "#         mean(randint) AS randintmean,\n",
    "#         count(DISTINCT randtext) AS randtextdistinct\n",
    "#     FROM spark_df_processed \n",
    "#     GROUP BY hour(randdatetime)\n",
    "# ''').cache()"
   ]
  },
  {
   "cell_type": "code",
   "execution_count": 8,
   "metadata": {},
   "outputs": [
    {
     "data": {
      "text/plain": [
       "22"
      ]
     },
     "execution_count": 8,
     "metadata": {},
     "output_type": "execute_result"
    }
   ],
   "source": [
    "spark_df_aggregated.count()"
   ]
  },
  {
   "cell_type": "code",
   "execution_count": 9,
   "metadata": {},
   "outputs": [
    {
     "name": "stdout",
     "output_type": "stream",
     "text": [
      "+----------------+-------------+------------------+----------------+\n",
      "|randdatetimehour|randintmedian|       randintmean|randtextdistinct|\n",
      "+----------------+-------------+------------------+----------------+\n",
      "|               0|       5001.0| 5000.088049141303|         2592182|\n",
      "|               3|       5001.0|  5001.37859555672|         2304007|\n",
      "|               4|       5006.0|  5000.11836798847|         1294408|\n",
      "|               5|       4998.0|  4996.62453204293|         1295259|\n",
      "|               6|       5003.0| 5000.952595330189|         1296815|\n",
      "|               7|       5001.0| 4999.136625470596|         1297993|\n",
      "|               8|       5000.0|   4999.3634063837|         1295740|\n",
      "|               9|       4997.0| 4998.745852833511|         1294641|\n",
      "|              10|       5004.0| 5000.680193187878|         1296752|\n",
      "|              11|       5000.0| 5001.391688620129|         1295092|\n",
      "|              12|       4992.0| 4996.467272154099|         1295340|\n",
      "|              13|       5004.0|5002.6345788950575|         1295300|\n",
      "|              14|       5001.0|5001.0250372219725|         1297454|\n",
      "|              15|       4995.0| 4997.277257657654|         1296172|\n",
      "|              16|       5001.0| 5001.234281116811|         1296490|\n",
      "|              17|       5000.0|5000.1845134328405|         1298093|\n",
      "|              18|       5002.0| 5001.798480153597|         1296972|\n",
      "|              19|       5006.0| 5003.492357732361|         1294389|\n",
      "|              20|       4996.0|4997.3224149336065|         1297112|\n",
      "|              21|       5001.0|  5001.40997411203|         1293109|\n",
      "+----------------+-------------+------------------+----------------+\n",
      "only showing top 20 rows\n",
      "\n"
     ]
    }
   ],
   "source": [
    "spark_df_aggregated.orderBy(\"randdatetimehour\").show()"
   ]
  },
  {
   "cell_type": "markdown",
   "metadata": {},
   "source": [
    "### Raw data merged with aggregated data"
   ]
  },
  {
   "cell_type": "code",
   "execution_count": 12,
   "metadata": {},
   "outputs": [],
   "source": [
    "spark_df_merged = spark_df \\\n",
    ".join(\n",
    "    spark_df_aggregated,\n",
    "    F.hour((F.round(F.unix_timestamp(\"randdatetime\") / 3600) * 3600).cast(\"timestamp\")) == spark_df_aggregated.randdatetimehour,\n",
    "    \"left\",\n",
    ") \\\n",
    ".cache()"
   ]
  },
  {
   "cell_type": "code",
   "execution_count": 13,
   "metadata": {},
   "outputs": [
    {
     "data": {
      "text/plain": [
       "100000001"
      ]
     },
     "execution_count": 13,
     "metadata": {},
     "output_type": "execute_result"
    }
   ],
   "source": [
    "spark_df_merged.count()"
   ]
  },
  {
   "cell_type": "code",
   "execution_count": 14,
   "metadata": {},
   "outputs": [
    {
     "name": "stdout",
     "output_type": "stream",
     "text": [
      "+--------+-------+--------------------+-------------------+----------------+-------------+------------------+----------------+\n",
      "|      id|randint|            randtext|       randdatetime|randdatetimehour|randintmedian|       randintmean|randtextdistinct|\n",
      "+--------+-------+--------------------+-------------------+----------------+-------------+------------------+----------------+\n",
      "|19998455|   5571|a01f5d2af3b46c9eb...|2015-11-06 00:14:33|               0|       5001.0| 5000.088049141303|         2592182|\n",
      "|19998456|   8337|    febadbbcdffbcdcf|2018-01-15 13:07:55|              13|       5004.0|5002.6345788950575|         1295300|\n",
      "|19998457|    585|       edcebdacafbae|2018-05-12 00:46:45|            NULL|         NULL|              NULL|            NULL|\n",
      "|19998458|   7508|  cccfceacdedacdcfdd|2019-10-23 10:11:34|              10|       5004.0| 5000.680193187878|         1296752|\n",
      "|19998459|   2127|    bdffdaddddeaecdc|2022-01-03 09:05:43|               9|       4997.0| 4998.745852833511|         1294641|\n",
      "|    NULL|   NULL|                NULL|               NULL|            NULL|         NULL|              NULL|            NULL|\n",
      "|19998461|   8783|    fefbaaafcabcbddf|2020-08-28 12:09:38|              12|       4992.0| 4996.467272154099|         1295340|\n",
      "|19998462|   1841|714396d66a0146f7e...|2021-06-10 03:40:21|               4|       5006.0|  5000.11836798847|         1294408|\n",
      "|19998463|   7720|          cddaceedfa|2014-05-07 16:44:16|              17|       5000.0|5000.1845134328405|         1298093|\n",
      "|19998464|   3627|c1f21043dbdb39f84...|2015-03-21 09:38:16|              10|       5004.0| 5000.680193187878|         1296752|\n",
      "|19998465|   7270|   acaaeacbbfbbaeddf|2021-05-15 22:53:05|              23|       5000.0|  4999.64048168143|         1297578|\n",
      "|19998466|   1167|187375ec3d90c57f2...|2014-08-11 22:40:08|              23|       5000.0|  4999.64048168143|         1297578|\n",
      "|19998467|   8126|912bbfad884681e55...|2021-10-23 00:40:28|            NULL|         NULL|              NULL|            NULL|\n",
      "|19998468|   6456|8997d217e9d1890a7...|2014-06-15 06:46:26|               7|       5001.0| 4999.136625470596|         1297993|\n",
      "|19998469|   2177|           ccdededff|2018-03-21 19:51:59|              20|       4996.0|4997.3224149336065|         1297112|\n",
      "|    NULL|   NULL|                NULL|               NULL|            NULL|         NULL|              NULL|            NULL|\n",
      "|19998471|   3892|           cdffeeded|2021-04-03 00:30:08|            NULL|         NULL|              NULL|            NULL|\n",
      "|19998472|   5773|            cfbcbcdb|2019-11-11 01:06:20|            NULL|         NULL|              NULL|            NULL|\n",
      "|19998473|   5005|           facdafbec|2018-02-13 23:53:16|               0|       5001.0| 5000.088049141303|         2592182|\n",
      "|19998474|   1065|           fbaebdbde|2018-08-05 05:39:27|               6|       5003.0| 5000.952595330189|         1296815|\n",
      "+--------+-------+--------------------+-------------------+----------------+-------------+------------------+----------------+\n",
      "only showing top 20 rows\n",
      "\n"
     ]
    }
   ],
   "source": [
    "spark_df_merged.show(20)"
   ]
  },
  {
   "cell_type": "markdown",
   "metadata": {},
   "source": [
    "### Entire transformation"
   ]
  },
  {
   "cell_type": "code",
   "execution_count": 11,
   "metadata": {},
   "outputs": [],
   "source": [
    "# spark_df_merged = spark_df \\\n",
    "# .dropna(\n",
    "#     how = \"all\",\n",
    "# ) \\\n",
    "# .dropDuplicates() \\\n",
    "# .filter(\n",
    "#     (F.hour(\"randdatetime\") < 1) | (F.hour(\"randdatetime\") > 2),\n",
    "# ) \\\n",
    "# .withColumn(\n",
    "#     \"randtext\",\n",
    "#     F.regexp_replace(\"randtext\", \"^[^0-9]+$\", \"\"),\n",
    "# ) \\\n",
    "# .groupBy(\n",
    "#     F.hour(\"randdatetime\").alias(\"randdatetimehour\"),\n",
    "# ) \\\n",
    "# .agg(\n",
    "#     F.median(\"randint\").alias(\"randintmedian\"),\n",
    "#     F.mean(\"randint\").alias(\"randintmean\"),\n",
    "#     F.countDistinct(\"randtext\").alias(\"randtextdistinct\"),\n",
    "# ) \\\n",
    "# .alias(\"spark_df_aggregated\") \\\n",
    "# .join(\n",
    "#     spark_df,\n",
    "#     F.hour((F.round(F.unix_timestamp(\"randdatetime\")/3600)*3600).cast(\"timestamp\")) == F.col(\"spark_df_aggregated.randdatetimehour\"),\n",
    "#     \"right\",\n",
    "# ) \\\n",
    "# .cache()"
   ]
  },
  {
   "cell_type": "markdown",
   "metadata": {},
   "source": [
    "### Visualization"
   ]
  },
  {
   "cell_type": "markdown",
   "metadata": {},
   "source": [
    "#### XY Graph"
   ]
  },
  {
   "cell_type": "code",
   "execution_count": 15,
   "metadata": {},
   "outputs": [],
   "source": [
    "spark_df_mean_by_month = spark_df \\\n",
    ".groupBy(\n",
    "    F.month(\"randdatetime\").alias(\"randdatetimemonth\"),\n",
    ") \\\n",
    ".agg(\n",
    "    F.mean(\"randint\").alias(\"randintmean\"),\n",
    ") \\\n",
    ".cache()"
   ]
  },
  {
   "cell_type": "code",
   "execution_count": 16,
   "metadata": {},
   "outputs": [
    {
     "name": "stdout",
     "output_type": "stream",
     "text": [
      "+-----------------+------------------+\n",
      "|randdatetimemonth|       randintmean|\n",
      "+-----------------+------------------+\n",
      "|             NULL|              NULL|\n",
      "|                1| 4999.480011806014|\n",
      "|                2|  4998.17410492495|\n",
      "|                3| 5001.034707026573|\n",
      "|                4| 5000.415738663857|\n",
      "|                5| 5001.790249214541|\n",
      "|                6|  4999.72198814926|\n",
      "|                7| 5001.123621269975|\n",
      "|                8|4998.7655839937415|\n",
      "|                9| 5000.826370209681|\n",
      "|               10| 4999.487245038549|\n",
      "|               11| 5000.208261671315|\n",
      "|               12| 5001.142630272484|\n",
      "+-----------------+------------------+\n",
      "\n"
     ]
    }
   ],
   "source": [
    "spark_df_mean_by_month.orderBy(\"randdatetimemonth\").show()"
   ]
  },
  {
   "cell_type": "code",
   "execution_count": 17,
   "metadata": {},
   "outputs": [
    {
     "data": {
      "application/vnd.plotly.v1+json": {
       "config": {
        "plotlyServerURL": "https://plot.ly"
       },
       "data": [
        {
         "hovertemplate": "randdatetimemonth=%{x}<br>randintmean=%{y}<extra></extra>",
         "legendgroup": "",
         "line": {
          "color": "#636efa",
          "dash": "solid"
         },
         "marker": {
          "symbol": "circle"
         },
         "mode": "lines",
         "name": "",
         "orientation": "v",
         "showlegend": false,
         "type": "scatter",
         "x": [
          1,
          2,
          3,
          4,
          5,
          6,
          7,
          8,
          9,
          10,
          11,
          12
         ],
         "xaxis": "x",
         "y": [
          4999.480011806014,
          4998.17410492495,
          5001.034707026573,
          5000.415738663857,
          5001.790249214541,
          4999.72198814926,
          5001.123621269975,
          4998.7655839937415,
          5000.826370209681,
          4999.487245038549,
          5000.208261671315,
          5001.142630272484
         ],
         "yaxis": "y"
        }
       ],
       "layout": {
        "legend": {
         "tracegroupgap": 0
        },
        "margin": {
         "t": 60
        },
        "template": {
         "data": {
          "bar": [
           {
            "error_x": {
             "color": "#2a3f5f"
            },
            "error_y": {
             "color": "#2a3f5f"
            },
            "marker": {
             "line": {
              "color": "#E5ECF6",
              "width": 0.5
             },
             "pattern": {
              "fillmode": "overlay",
              "size": 10,
              "solidity": 0.2
             }
            },
            "type": "bar"
           }
          ],
          "barpolar": [
           {
            "marker": {
             "line": {
              "color": "#E5ECF6",
              "width": 0.5
             },
             "pattern": {
              "fillmode": "overlay",
              "size": 10,
              "solidity": 0.2
             }
            },
            "type": "barpolar"
           }
          ],
          "carpet": [
           {
            "aaxis": {
             "endlinecolor": "#2a3f5f",
             "gridcolor": "white",
             "linecolor": "white",
             "minorgridcolor": "white",
             "startlinecolor": "#2a3f5f"
            },
            "baxis": {
             "endlinecolor": "#2a3f5f",
             "gridcolor": "white",
             "linecolor": "white",
             "minorgridcolor": "white",
             "startlinecolor": "#2a3f5f"
            },
            "type": "carpet"
           }
          ],
          "choropleth": [
           {
            "colorbar": {
             "outlinewidth": 0,
             "ticks": ""
            },
            "type": "choropleth"
           }
          ],
          "contour": [
           {
            "colorbar": {
             "outlinewidth": 0,
             "ticks": ""
            },
            "colorscale": [
             [
              0,
              "#0d0887"
             ],
             [
              0.1111111111111111,
              "#46039f"
             ],
             [
              0.2222222222222222,
              "#7201a8"
             ],
             [
              0.3333333333333333,
              "#9c179e"
             ],
             [
              0.4444444444444444,
              "#bd3786"
             ],
             [
              0.5555555555555556,
              "#d8576b"
             ],
             [
              0.6666666666666666,
              "#ed7953"
             ],
             [
              0.7777777777777778,
              "#fb9f3a"
             ],
             [
              0.8888888888888888,
              "#fdca26"
             ],
             [
              1,
              "#f0f921"
             ]
            ],
            "type": "contour"
           }
          ],
          "contourcarpet": [
           {
            "colorbar": {
             "outlinewidth": 0,
             "ticks": ""
            },
            "type": "contourcarpet"
           }
          ],
          "heatmap": [
           {
            "colorbar": {
             "outlinewidth": 0,
             "ticks": ""
            },
            "colorscale": [
             [
              0,
              "#0d0887"
             ],
             [
              0.1111111111111111,
              "#46039f"
             ],
             [
              0.2222222222222222,
              "#7201a8"
             ],
             [
              0.3333333333333333,
              "#9c179e"
             ],
             [
              0.4444444444444444,
              "#bd3786"
             ],
             [
              0.5555555555555556,
              "#d8576b"
             ],
             [
              0.6666666666666666,
              "#ed7953"
             ],
             [
              0.7777777777777778,
              "#fb9f3a"
             ],
             [
              0.8888888888888888,
              "#fdca26"
             ],
             [
              1,
              "#f0f921"
             ]
            ],
            "type": "heatmap"
           }
          ],
          "heatmapgl": [
           {
            "colorbar": {
             "outlinewidth": 0,
             "ticks": ""
            },
            "colorscale": [
             [
              0,
              "#0d0887"
             ],
             [
              0.1111111111111111,
              "#46039f"
             ],
             [
              0.2222222222222222,
              "#7201a8"
             ],
             [
              0.3333333333333333,
              "#9c179e"
             ],
             [
              0.4444444444444444,
              "#bd3786"
             ],
             [
              0.5555555555555556,
              "#d8576b"
             ],
             [
              0.6666666666666666,
              "#ed7953"
             ],
             [
              0.7777777777777778,
              "#fb9f3a"
             ],
             [
              0.8888888888888888,
              "#fdca26"
             ],
             [
              1,
              "#f0f921"
             ]
            ],
            "type": "heatmapgl"
           }
          ],
          "histogram": [
           {
            "marker": {
             "pattern": {
              "fillmode": "overlay",
              "size": 10,
              "solidity": 0.2
             }
            },
            "type": "histogram"
           }
          ],
          "histogram2d": [
           {
            "colorbar": {
             "outlinewidth": 0,
             "ticks": ""
            },
            "colorscale": [
             [
              0,
              "#0d0887"
             ],
             [
              0.1111111111111111,
              "#46039f"
             ],
             [
              0.2222222222222222,
              "#7201a8"
             ],
             [
              0.3333333333333333,
              "#9c179e"
             ],
             [
              0.4444444444444444,
              "#bd3786"
             ],
             [
              0.5555555555555556,
              "#d8576b"
             ],
             [
              0.6666666666666666,
              "#ed7953"
             ],
             [
              0.7777777777777778,
              "#fb9f3a"
             ],
             [
              0.8888888888888888,
              "#fdca26"
             ],
             [
              1,
              "#f0f921"
             ]
            ],
            "type": "histogram2d"
           }
          ],
          "histogram2dcontour": [
           {
            "colorbar": {
             "outlinewidth": 0,
             "ticks": ""
            },
            "colorscale": [
             [
              0,
              "#0d0887"
             ],
             [
              0.1111111111111111,
              "#46039f"
             ],
             [
              0.2222222222222222,
              "#7201a8"
             ],
             [
              0.3333333333333333,
              "#9c179e"
             ],
             [
              0.4444444444444444,
              "#bd3786"
             ],
             [
              0.5555555555555556,
              "#d8576b"
             ],
             [
              0.6666666666666666,
              "#ed7953"
             ],
             [
              0.7777777777777778,
              "#fb9f3a"
             ],
             [
              0.8888888888888888,
              "#fdca26"
             ],
             [
              1,
              "#f0f921"
             ]
            ],
            "type": "histogram2dcontour"
           }
          ],
          "mesh3d": [
           {
            "colorbar": {
             "outlinewidth": 0,
             "ticks": ""
            },
            "type": "mesh3d"
           }
          ],
          "parcoords": [
           {
            "line": {
             "colorbar": {
              "outlinewidth": 0,
              "ticks": ""
             }
            },
            "type": "parcoords"
           }
          ],
          "pie": [
           {
            "automargin": true,
            "type": "pie"
           }
          ],
          "scatter": [
           {
            "fillpattern": {
             "fillmode": "overlay",
             "size": 10,
             "solidity": 0.2
            },
            "type": "scatter"
           }
          ],
          "scatter3d": [
           {
            "line": {
             "colorbar": {
              "outlinewidth": 0,
              "ticks": ""
             }
            },
            "marker": {
             "colorbar": {
              "outlinewidth": 0,
              "ticks": ""
             }
            },
            "type": "scatter3d"
           }
          ],
          "scattercarpet": [
           {
            "marker": {
             "colorbar": {
              "outlinewidth": 0,
              "ticks": ""
             }
            },
            "type": "scattercarpet"
           }
          ],
          "scattergeo": [
           {
            "marker": {
             "colorbar": {
              "outlinewidth": 0,
              "ticks": ""
             }
            },
            "type": "scattergeo"
           }
          ],
          "scattergl": [
           {
            "marker": {
             "colorbar": {
              "outlinewidth": 0,
              "ticks": ""
             }
            },
            "type": "scattergl"
           }
          ],
          "scattermapbox": [
           {
            "marker": {
             "colorbar": {
              "outlinewidth": 0,
              "ticks": ""
             }
            },
            "type": "scattermapbox"
           }
          ],
          "scatterpolar": [
           {
            "marker": {
             "colorbar": {
              "outlinewidth": 0,
              "ticks": ""
             }
            },
            "type": "scatterpolar"
           }
          ],
          "scatterpolargl": [
           {
            "marker": {
             "colorbar": {
              "outlinewidth": 0,
              "ticks": ""
             }
            },
            "type": "scatterpolargl"
           }
          ],
          "scatterternary": [
           {
            "marker": {
             "colorbar": {
              "outlinewidth": 0,
              "ticks": ""
             }
            },
            "type": "scatterternary"
           }
          ],
          "surface": [
           {
            "colorbar": {
             "outlinewidth": 0,
             "ticks": ""
            },
            "colorscale": [
             [
              0,
              "#0d0887"
             ],
             [
              0.1111111111111111,
              "#46039f"
             ],
             [
              0.2222222222222222,
              "#7201a8"
             ],
             [
              0.3333333333333333,
              "#9c179e"
             ],
             [
              0.4444444444444444,
              "#bd3786"
             ],
             [
              0.5555555555555556,
              "#d8576b"
             ],
             [
              0.6666666666666666,
              "#ed7953"
             ],
             [
              0.7777777777777778,
              "#fb9f3a"
             ],
             [
              0.8888888888888888,
              "#fdca26"
             ],
             [
              1,
              "#f0f921"
             ]
            ],
            "type": "surface"
           }
          ],
          "table": [
           {
            "cells": {
             "fill": {
              "color": "#EBF0F8"
             },
             "line": {
              "color": "white"
             }
            },
            "header": {
             "fill": {
              "color": "#C8D4E3"
             },
             "line": {
              "color": "white"
             }
            },
            "type": "table"
           }
          ]
         },
         "layout": {
          "annotationdefaults": {
           "arrowcolor": "#2a3f5f",
           "arrowhead": 0,
           "arrowwidth": 1
          },
          "autotypenumbers": "strict",
          "coloraxis": {
           "colorbar": {
            "outlinewidth": 0,
            "ticks": ""
           }
          },
          "colorscale": {
           "diverging": [
            [
             0,
             "#8e0152"
            ],
            [
             0.1,
             "#c51b7d"
            ],
            [
             0.2,
             "#de77ae"
            ],
            [
             0.3,
             "#f1b6da"
            ],
            [
             0.4,
             "#fde0ef"
            ],
            [
             0.5,
             "#f7f7f7"
            ],
            [
             0.6,
             "#e6f5d0"
            ],
            [
             0.7,
             "#b8e186"
            ],
            [
             0.8,
             "#7fbc41"
            ],
            [
             0.9,
             "#4d9221"
            ],
            [
             1,
             "#276419"
            ]
           ],
           "sequential": [
            [
             0,
             "#0d0887"
            ],
            [
             0.1111111111111111,
             "#46039f"
            ],
            [
             0.2222222222222222,
             "#7201a8"
            ],
            [
             0.3333333333333333,
             "#9c179e"
            ],
            [
             0.4444444444444444,
             "#bd3786"
            ],
            [
             0.5555555555555556,
             "#d8576b"
            ],
            [
             0.6666666666666666,
             "#ed7953"
            ],
            [
             0.7777777777777778,
             "#fb9f3a"
            ],
            [
             0.8888888888888888,
             "#fdca26"
            ],
            [
             1,
             "#f0f921"
            ]
           ],
           "sequentialminus": [
            [
             0,
             "#0d0887"
            ],
            [
             0.1111111111111111,
             "#46039f"
            ],
            [
             0.2222222222222222,
             "#7201a8"
            ],
            [
             0.3333333333333333,
             "#9c179e"
            ],
            [
             0.4444444444444444,
             "#bd3786"
            ],
            [
             0.5555555555555556,
             "#d8576b"
            ],
            [
             0.6666666666666666,
             "#ed7953"
            ],
            [
             0.7777777777777778,
             "#fb9f3a"
            ],
            [
             0.8888888888888888,
             "#fdca26"
            ],
            [
             1,
             "#f0f921"
            ]
           ]
          },
          "colorway": [
           "#636efa",
           "#EF553B",
           "#00cc96",
           "#ab63fa",
           "#FFA15A",
           "#19d3f3",
           "#FF6692",
           "#B6E880",
           "#FF97FF",
           "#FECB52"
          ],
          "font": {
           "color": "#2a3f5f"
          },
          "geo": {
           "bgcolor": "white",
           "lakecolor": "white",
           "landcolor": "#E5ECF6",
           "showlakes": true,
           "showland": true,
           "subunitcolor": "white"
          },
          "hoverlabel": {
           "align": "left"
          },
          "hovermode": "closest",
          "mapbox": {
           "style": "light"
          },
          "paper_bgcolor": "white",
          "plot_bgcolor": "#E5ECF6",
          "polar": {
           "angularaxis": {
            "gridcolor": "white",
            "linecolor": "white",
            "ticks": ""
           },
           "bgcolor": "#E5ECF6",
           "radialaxis": {
            "gridcolor": "white",
            "linecolor": "white",
            "ticks": ""
           }
          },
          "scene": {
           "xaxis": {
            "backgroundcolor": "#E5ECF6",
            "gridcolor": "white",
            "gridwidth": 2,
            "linecolor": "white",
            "showbackground": true,
            "ticks": "",
            "zerolinecolor": "white"
           },
           "yaxis": {
            "backgroundcolor": "#E5ECF6",
            "gridcolor": "white",
            "gridwidth": 2,
            "linecolor": "white",
            "showbackground": true,
            "ticks": "",
            "zerolinecolor": "white"
           },
           "zaxis": {
            "backgroundcolor": "#E5ECF6",
            "gridcolor": "white",
            "gridwidth": 2,
            "linecolor": "white",
            "showbackground": true,
            "ticks": "",
            "zerolinecolor": "white"
           }
          },
          "shapedefaults": {
           "line": {
            "color": "#2a3f5f"
           }
          },
          "ternary": {
           "aaxis": {
            "gridcolor": "white",
            "linecolor": "white",
            "ticks": ""
           },
           "baxis": {
            "gridcolor": "white",
            "linecolor": "white",
            "ticks": ""
           },
           "bgcolor": "#E5ECF6",
           "caxis": {
            "gridcolor": "white",
            "linecolor": "white",
            "ticks": ""
           }
          },
          "title": {
           "x": 0.05
          },
          "xaxis": {
           "automargin": true,
           "gridcolor": "white",
           "linecolor": "white",
           "ticks": "",
           "title": {
            "standoff": 15
           },
           "zerolinecolor": "white",
           "zerolinewidth": 2
          },
          "yaxis": {
           "automargin": true,
           "gridcolor": "white",
           "linecolor": "white",
           "ticks": "",
           "title": {
            "standoff": 15
           },
           "zerolinecolor": "white",
           "zerolinewidth": 2
          }
         }
        },
        "xaxis": {
         "anchor": "y",
         "domain": [
          0,
          1
         ],
         "title": {
          "text": "randdatetimemonth"
         }
        },
        "yaxis": {
         "anchor": "x",
         "domain": [
          0,
          1
         ],
         "title": {
          "text": "randintmean"
         }
        }
       }
      }
     },
     "metadata": {},
     "output_type": "display_data"
    }
   ],
   "source": [
    "spark_df_mean_by_month.dropna().orderBy(\"randdatetimemonth\").pandas_api().plot(x = \"randdatetimemonth\", y = \"randintmean\")"
   ]
  },
  {
   "cell_type": "markdown",
   "metadata": {},
   "source": [
    "#### Histogram"
   ]
  },
  {
   "cell_type": "code",
   "execution_count": 18,
   "metadata": {},
   "outputs": [
    {
     "data": {
      "application/vnd.plotly.v1+json": {
       "config": {
        "plotlyServerURL": "https://plot.ly"
       },
       "data": [
        {
         "hovertemplate": "variable=randint<br>value=%{text}<br>count=%{y}",
         "name": "randint",
         "text": [
          "[0.0, 2000.0)",
          "[2000.0, 4000.0)",
          "[4000.0, 6000.0)",
          "[6000.0, 8000.0)",
          "[8000.0, 10000.0]"
         ],
         "type": "bar",
         "x": [
          1000,
          3000,
          5000,
          7000,
          9000
         ],
         "y": [
          17995744,
          17995974,
          18002010,
          18004210,
          18002061
         ]
        }
       ],
       "layout": {
        "barmode": "stack",
        "template": {
         "data": {
          "bar": [
           {
            "error_x": {
             "color": "#2a3f5f"
            },
            "error_y": {
             "color": "#2a3f5f"
            },
            "marker": {
             "line": {
              "color": "#E5ECF6",
              "width": 0.5
             },
             "pattern": {
              "fillmode": "overlay",
              "size": 10,
              "solidity": 0.2
             }
            },
            "type": "bar"
           }
          ],
          "barpolar": [
           {
            "marker": {
             "line": {
              "color": "#E5ECF6",
              "width": 0.5
             },
             "pattern": {
              "fillmode": "overlay",
              "size": 10,
              "solidity": 0.2
             }
            },
            "type": "barpolar"
           }
          ],
          "carpet": [
           {
            "aaxis": {
             "endlinecolor": "#2a3f5f",
             "gridcolor": "white",
             "linecolor": "white",
             "minorgridcolor": "white",
             "startlinecolor": "#2a3f5f"
            },
            "baxis": {
             "endlinecolor": "#2a3f5f",
             "gridcolor": "white",
             "linecolor": "white",
             "minorgridcolor": "white",
             "startlinecolor": "#2a3f5f"
            },
            "type": "carpet"
           }
          ],
          "choropleth": [
           {
            "colorbar": {
             "outlinewidth": 0,
             "ticks": ""
            },
            "type": "choropleth"
           }
          ],
          "contour": [
           {
            "colorbar": {
             "outlinewidth": 0,
             "ticks": ""
            },
            "colorscale": [
             [
              0,
              "#0d0887"
             ],
             [
              0.1111111111111111,
              "#46039f"
             ],
             [
              0.2222222222222222,
              "#7201a8"
             ],
             [
              0.3333333333333333,
              "#9c179e"
             ],
             [
              0.4444444444444444,
              "#bd3786"
             ],
             [
              0.5555555555555556,
              "#d8576b"
             ],
             [
              0.6666666666666666,
              "#ed7953"
             ],
             [
              0.7777777777777778,
              "#fb9f3a"
             ],
             [
              0.8888888888888888,
              "#fdca26"
             ],
             [
              1,
              "#f0f921"
             ]
            ],
            "type": "contour"
           }
          ],
          "contourcarpet": [
           {
            "colorbar": {
             "outlinewidth": 0,
             "ticks": ""
            },
            "type": "contourcarpet"
           }
          ],
          "heatmap": [
           {
            "colorbar": {
             "outlinewidth": 0,
             "ticks": ""
            },
            "colorscale": [
             [
              0,
              "#0d0887"
             ],
             [
              0.1111111111111111,
              "#46039f"
             ],
             [
              0.2222222222222222,
              "#7201a8"
             ],
             [
              0.3333333333333333,
              "#9c179e"
             ],
             [
              0.4444444444444444,
              "#bd3786"
             ],
             [
              0.5555555555555556,
              "#d8576b"
             ],
             [
              0.6666666666666666,
              "#ed7953"
             ],
             [
              0.7777777777777778,
              "#fb9f3a"
             ],
             [
              0.8888888888888888,
              "#fdca26"
             ],
             [
              1,
              "#f0f921"
             ]
            ],
            "type": "heatmap"
           }
          ],
          "heatmapgl": [
           {
            "colorbar": {
             "outlinewidth": 0,
             "ticks": ""
            },
            "colorscale": [
             [
              0,
              "#0d0887"
             ],
             [
              0.1111111111111111,
              "#46039f"
             ],
             [
              0.2222222222222222,
              "#7201a8"
             ],
             [
              0.3333333333333333,
              "#9c179e"
             ],
             [
              0.4444444444444444,
              "#bd3786"
             ],
             [
              0.5555555555555556,
              "#d8576b"
             ],
             [
              0.6666666666666666,
              "#ed7953"
             ],
             [
              0.7777777777777778,
              "#fb9f3a"
             ],
             [
              0.8888888888888888,
              "#fdca26"
             ],
             [
              1,
              "#f0f921"
             ]
            ],
            "type": "heatmapgl"
           }
          ],
          "histogram": [
           {
            "marker": {
             "pattern": {
              "fillmode": "overlay",
              "size": 10,
              "solidity": 0.2
             }
            },
            "type": "histogram"
           }
          ],
          "histogram2d": [
           {
            "colorbar": {
             "outlinewidth": 0,
             "ticks": ""
            },
            "colorscale": [
             [
              0,
              "#0d0887"
             ],
             [
              0.1111111111111111,
              "#46039f"
             ],
             [
              0.2222222222222222,
              "#7201a8"
             ],
             [
              0.3333333333333333,
              "#9c179e"
             ],
             [
              0.4444444444444444,
              "#bd3786"
             ],
             [
              0.5555555555555556,
              "#d8576b"
             ],
             [
              0.6666666666666666,
              "#ed7953"
             ],
             [
              0.7777777777777778,
              "#fb9f3a"
             ],
             [
              0.8888888888888888,
              "#fdca26"
             ],
             [
              1,
              "#f0f921"
             ]
            ],
            "type": "histogram2d"
           }
          ],
          "histogram2dcontour": [
           {
            "colorbar": {
             "outlinewidth": 0,
             "ticks": ""
            },
            "colorscale": [
             [
              0,
              "#0d0887"
             ],
             [
              0.1111111111111111,
              "#46039f"
             ],
             [
              0.2222222222222222,
              "#7201a8"
             ],
             [
              0.3333333333333333,
              "#9c179e"
             ],
             [
              0.4444444444444444,
              "#bd3786"
             ],
             [
              0.5555555555555556,
              "#d8576b"
             ],
             [
              0.6666666666666666,
              "#ed7953"
             ],
             [
              0.7777777777777778,
              "#fb9f3a"
             ],
             [
              0.8888888888888888,
              "#fdca26"
             ],
             [
              1,
              "#f0f921"
             ]
            ],
            "type": "histogram2dcontour"
           }
          ],
          "mesh3d": [
           {
            "colorbar": {
             "outlinewidth": 0,
             "ticks": ""
            },
            "type": "mesh3d"
           }
          ],
          "parcoords": [
           {
            "line": {
             "colorbar": {
              "outlinewidth": 0,
              "ticks": ""
             }
            },
            "type": "parcoords"
           }
          ],
          "pie": [
           {
            "automargin": true,
            "type": "pie"
           }
          ],
          "scatter": [
           {
            "fillpattern": {
             "fillmode": "overlay",
             "size": 10,
             "solidity": 0.2
            },
            "type": "scatter"
           }
          ],
          "scatter3d": [
           {
            "line": {
             "colorbar": {
              "outlinewidth": 0,
              "ticks": ""
             }
            },
            "marker": {
             "colorbar": {
              "outlinewidth": 0,
              "ticks": ""
             }
            },
            "type": "scatter3d"
           }
          ],
          "scattercarpet": [
           {
            "marker": {
             "colorbar": {
              "outlinewidth": 0,
              "ticks": ""
             }
            },
            "type": "scattercarpet"
           }
          ],
          "scattergeo": [
           {
            "marker": {
             "colorbar": {
              "outlinewidth": 0,
              "ticks": ""
             }
            },
            "type": "scattergeo"
           }
          ],
          "scattergl": [
           {
            "marker": {
             "colorbar": {
              "outlinewidth": 0,
              "ticks": ""
             }
            },
            "type": "scattergl"
           }
          ],
          "scattermapbox": [
           {
            "marker": {
             "colorbar": {
              "outlinewidth": 0,
              "ticks": ""
             }
            },
            "type": "scattermapbox"
           }
          ],
          "scatterpolar": [
           {
            "marker": {
             "colorbar": {
              "outlinewidth": 0,
              "ticks": ""
             }
            },
            "type": "scatterpolar"
           }
          ],
          "scatterpolargl": [
           {
            "marker": {
             "colorbar": {
              "outlinewidth": 0,
              "ticks": ""
             }
            },
            "type": "scatterpolargl"
           }
          ],
          "scatterternary": [
           {
            "marker": {
             "colorbar": {
              "outlinewidth": 0,
              "ticks": ""
             }
            },
            "type": "scatterternary"
           }
          ],
          "surface": [
           {
            "colorbar": {
             "outlinewidth": 0,
             "ticks": ""
            },
            "colorscale": [
             [
              0,
              "#0d0887"
             ],
             [
              0.1111111111111111,
              "#46039f"
             ],
             [
              0.2222222222222222,
              "#7201a8"
             ],
             [
              0.3333333333333333,
              "#9c179e"
             ],
             [
              0.4444444444444444,
              "#bd3786"
             ],
             [
              0.5555555555555556,
              "#d8576b"
             ],
             [
              0.6666666666666666,
              "#ed7953"
             ],
             [
              0.7777777777777778,
              "#fb9f3a"
             ],
             [
              0.8888888888888888,
              "#fdca26"
             ],
             [
              1,
              "#f0f921"
             ]
            ],
            "type": "surface"
           }
          ],
          "table": [
           {
            "cells": {
             "fill": {
              "color": "#EBF0F8"
             },
             "line": {
              "color": "white"
             }
            },
            "header": {
             "fill": {
              "color": "#C8D4E3"
             },
             "line": {
              "color": "white"
             }
            },
            "type": "table"
           }
          ]
         },
         "layout": {
          "annotationdefaults": {
           "arrowcolor": "#2a3f5f",
           "arrowhead": 0,
           "arrowwidth": 1
          },
          "autotypenumbers": "strict",
          "coloraxis": {
           "colorbar": {
            "outlinewidth": 0,
            "ticks": ""
           }
          },
          "colorscale": {
           "diverging": [
            [
             0,
             "#8e0152"
            ],
            [
             0.1,
             "#c51b7d"
            ],
            [
             0.2,
             "#de77ae"
            ],
            [
             0.3,
             "#f1b6da"
            ],
            [
             0.4,
             "#fde0ef"
            ],
            [
             0.5,
             "#f7f7f7"
            ],
            [
             0.6,
             "#e6f5d0"
            ],
            [
             0.7,
             "#b8e186"
            ],
            [
             0.8,
             "#7fbc41"
            ],
            [
             0.9,
             "#4d9221"
            ],
            [
             1,
             "#276419"
            ]
           ],
           "sequential": [
            [
             0,
             "#0d0887"
            ],
            [
             0.1111111111111111,
             "#46039f"
            ],
            [
             0.2222222222222222,
             "#7201a8"
            ],
            [
             0.3333333333333333,
             "#9c179e"
            ],
            [
             0.4444444444444444,
             "#bd3786"
            ],
            [
             0.5555555555555556,
             "#d8576b"
            ],
            [
             0.6666666666666666,
             "#ed7953"
            ],
            [
             0.7777777777777778,
             "#fb9f3a"
            ],
            [
             0.8888888888888888,
             "#fdca26"
            ],
            [
             1,
             "#f0f921"
            ]
           ],
           "sequentialminus": [
            [
             0,
             "#0d0887"
            ],
            [
             0.1111111111111111,
             "#46039f"
            ],
            [
             0.2222222222222222,
             "#7201a8"
            ],
            [
             0.3333333333333333,
             "#9c179e"
            ],
            [
             0.4444444444444444,
             "#bd3786"
            ],
            [
             0.5555555555555556,
             "#d8576b"
            ],
            [
             0.6666666666666666,
             "#ed7953"
            ],
            [
             0.7777777777777778,
             "#fb9f3a"
            ],
            [
             0.8888888888888888,
             "#fdca26"
            ],
            [
             1,
             "#f0f921"
            ]
           ]
          },
          "colorway": [
           "#636efa",
           "#EF553B",
           "#00cc96",
           "#ab63fa",
           "#FFA15A",
           "#19d3f3",
           "#FF6692",
           "#B6E880",
           "#FF97FF",
           "#FECB52"
          ],
          "font": {
           "color": "#2a3f5f"
          },
          "geo": {
           "bgcolor": "white",
           "lakecolor": "white",
           "landcolor": "#E5ECF6",
           "showlakes": true,
           "showland": true,
           "subunitcolor": "white"
          },
          "hoverlabel": {
           "align": "left"
          },
          "hovermode": "closest",
          "mapbox": {
           "style": "light"
          },
          "paper_bgcolor": "white",
          "plot_bgcolor": "#E5ECF6",
          "polar": {
           "angularaxis": {
            "gridcolor": "white",
            "linecolor": "white",
            "ticks": ""
           },
           "bgcolor": "#E5ECF6",
           "radialaxis": {
            "gridcolor": "white",
            "linecolor": "white",
            "ticks": ""
           }
          },
          "scene": {
           "xaxis": {
            "backgroundcolor": "#E5ECF6",
            "gridcolor": "white",
            "gridwidth": 2,
            "linecolor": "white",
            "showbackground": true,
            "ticks": "",
            "zerolinecolor": "white"
           },
           "yaxis": {
            "backgroundcolor": "#E5ECF6",
            "gridcolor": "white",
            "gridwidth": 2,
            "linecolor": "white",
            "showbackground": true,
            "ticks": "",
            "zerolinecolor": "white"
           },
           "zaxis": {
            "backgroundcolor": "#E5ECF6",
            "gridcolor": "white",
            "gridwidth": 2,
            "linecolor": "white",
            "showbackground": true,
            "ticks": "",
            "zerolinecolor": "white"
           }
          },
          "shapedefaults": {
           "line": {
            "color": "#2a3f5f"
           }
          },
          "ternary": {
           "aaxis": {
            "gridcolor": "white",
            "linecolor": "white",
            "ticks": ""
           },
           "baxis": {
            "gridcolor": "white",
            "linecolor": "white",
            "ticks": ""
           },
           "bgcolor": "#E5ECF6",
           "caxis": {
            "gridcolor": "white",
            "linecolor": "white",
            "ticks": ""
           }
          },
          "title": {
           "x": 0.05
          },
          "xaxis": {
           "automargin": true,
           "gridcolor": "white",
           "linecolor": "white",
           "ticks": "",
           "title": {
            "standoff": 15
           },
           "zerolinecolor": "white",
           "zerolinewidth": 2
          },
          "yaxis": {
           "automargin": true,
           "gridcolor": "white",
           "linecolor": "white",
           "ticks": "",
           "title": {
            "standoff": 15
           },
           "zerolinecolor": "white",
           "zerolinewidth": 2
          }
         }
        },
        "xaxis": {
         "title": {
          "text": "value"
         }
        },
        "yaxis": {
         "title": {
          "text": "count"
         }
        }
       }
      }
     },
     "metadata": {},
     "output_type": "display_data"
    }
   ],
   "source": [
    "spark_df.select(\"randint\").pandas_api().plot.hist(bins = 5)"
   ]
  },
  {
   "cell_type": "markdown",
   "metadata": {},
   "source": [
    "#### Heatmap"
   ]
  },
  {
   "cell_type": "code",
   "execution_count": 79,
   "metadata": {},
   "outputs": [
    {
     "data": {
      "text/html": [
       "<style type=\"text/css\">\n",
       "#T_8bc1a_row0_col1, #T_8bc1a_row1_col1, #T_8bc1a_row2_col1, #T_8bc1a_row3_col1, #T_8bc1a_row5_col1, #T_8bc1a_row6_col1, #T_8bc1a_row10_col1, #T_8bc1a_row11_col1, #T_8bc1a_row13_col1, #T_8bc1a_row15_col1 {\n",
       "  background-color: #440154;\n",
       "  color: #f1f1f1;\n",
       "}\n",
       "#T_8bc1a_row4_col1, #T_8bc1a_row7_col1, #T_8bc1a_row8_col1, #T_8bc1a_row9_col1, #T_8bc1a_row12_col1, #T_8bc1a_row14_col1 {\n",
       "  background-color: #fde725;\n",
       "  color: #000000;\n",
       "}\n",
       "</style>\n",
       "<table id=\"T_8bc1a\">\n",
       "  <thead>\n",
       "    <tr>\n",
       "      <th class=\"blank level0\" >&nbsp;</th>\n",
       "      <th id=\"T_8bc1a_level0_col0\" class=\"col_heading level0 col0\" >randtextchar</th>\n",
       "      <th id=\"T_8bc1a_level0_col1\" class=\"col_heading level0 col1\" >count</th>\n",
       "    </tr>\n",
       "  </thead>\n",
       "  <tbody>\n",
       "    <tr>\n",
       "      <th id=\"T_8bc1a_level0_row0\" class=\"row_heading level0 row0\" >0</th>\n",
       "      <td id=\"T_8bc1a_row0_col0\" class=\"data row0 col0\" >7</td>\n",
       "      <td id=\"T_8bc1a_row0_col1\" class=\"data row0 col1\" >89997382</td>\n",
       "    </tr>\n",
       "    <tr>\n",
       "      <th id=\"T_8bc1a_level0_row1\" class=\"row_heading level0 row1\" >1</th>\n",
       "      <td id=\"T_8bc1a_row1_col0\" class=\"data row1 col0\" >3</td>\n",
       "      <td id=\"T_8bc1a_row1_col1\" class=\"data row1 col1\" >89991974</td>\n",
       "    </tr>\n",
       "    <tr>\n",
       "      <th id=\"T_8bc1a_level0_row2\" class=\"row_heading level0 row2\" >2</th>\n",
       "      <td id=\"T_8bc1a_row2_col0\" class=\"data row2 col0\" >8</td>\n",
       "      <td id=\"T_8bc1a_row2_col1\" class=\"data row2 col1\" >89999067</td>\n",
       "    </tr>\n",
       "    <tr>\n",
       "      <th id=\"T_8bc1a_level0_row3\" class=\"row_heading level0 row3\" >3</th>\n",
       "      <td id=\"T_8bc1a_row3_col0\" class=\"data row3 col0\" >0</td>\n",
       "      <td id=\"T_8bc1a_row3_col1\" class=\"data row3 col1\" >89996284</td>\n",
       "    </tr>\n",
       "    <tr>\n",
       "      <th id=\"T_8bc1a_level0_row4\" class=\"row_heading level0 row4\" >4</th>\n",
       "      <td id=\"T_8bc1a_row4_col0\" class=\"data row4 col0\" >f</td>\n",
       "      <td id=\"T_8bc1a_row4_col1\" class=\"data row4 col1\" >180013462</td>\n",
       "    </tr>\n",
       "    <tr>\n",
       "      <th id=\"T_8bc1a_level0_row5\" class=\"row_heading level0 row5\" >5</th>\n",
       "      <td id=\"T_8bc1a_row5_col0\" class=\"data row5 col0\" >5</td>\n",
       "      <td id=\"T_8bc1a_row5_col1\" class=\"data row5 col1\" >89999482</td>\n",
       "    </tr>\n",
       "    <tr>\n",
       "      <th id=\"T_8bc1a_level0_row6\" class=\"row_heading level0 row6\" >6</th>\n",
       "      <td id=\"T_8bc1a_row6_col0\" class=\"data row6 col0\" >6</td>\n",
       "      <td id=\"T_8bc1a_row6_col1\" class=\"data row6 col1\" >89995005</td>\n",
       "    </tr>\n",
       "    <tr>\n",
       "      <th id=\"T_8bc1a_level0_row7\" class=\"row_heading level0 row7\" >7</th>\n",
       "      <td id=\"T_8bc1a_row7_col0\" class=\"data row7 col0\" >e</td>\n",
       "      <td id=\"T_8bc1a_row7_col1\" class=\"data row7 col1\" >180013868</td>\n",
       "    </tr>\n",
       "    <tr>\n",
       "      <th id=\"T_8bc1a_level0_row8\" class=\"row_heading level0 row8\" >8</th>\n",
       "      <td id=\"T_8bc1a_row8_col0\" class=\"data row8 col0\" >d</td>\n",
       "      <td id=\"T_8bc1a_row8_col1\" class=\"data row8 col1\" >180007076</td>\n",
       "    </tr>\n",
       "    <tr>\n",
       "      <th id=\"T_8bc1a_level0_row9\" class=\"row_heading level0 row9\" >9</th>\n",
       "      <td id=\"T_8bc1a_row9_col0\" class=\"data row9 col0\" >c</td>\n",
       "      <td id=\"T_8bc1a_row9_col1\" class=\"data row9 col1\" >180018732</td>\n",
       "    </tr>\n",
       "    <tr>\n",
       "      <th id=\"T_8bc1a_level0_row10\" class=\"row_heading level0 row10\" >10</th>\n",
       "      <td id=\"T_8bc1a_row10_col0\" class=\"data row10 col0\" >9</td>\n",
       "      <td id=\"T_8bc1a_row10_col1\" class=\"data row10 col1\" >90024406</td>\n",
       "    </tr>\n",
       "    <tr>\n",
       "      <th id=\"T_8bc1a_level0_row11\" class=\"row_heading level0 row11\" >11</th>\n",
       "      <td id=\"T_8bc1a_row11_col0\" class=\"data row11 col0\" >1</td>\n",
       "      <td id=\"T_8bc1a_row11_col1\" class=\"data row11 col1\" >90001658</td>\n",
       "    </tr>\n",
       "    <tr>\n",
       "      <th id=\"T_8bc1a_level0_row12\" class=\"row_heading level0 row12\" >12</th>\n",
       "      <td id=\"T_8bc1a_row12_col0\" class=\"data row12 col0\" >b</td>\n",
       "      <td id=\"T_8bc1a_row12_col1\" class=\"data row12 col1\" >180001833</td>\n",
       "    </tr>\n",
       "    <tr>\n",
       "      <th id=\"T_8bc1a_level0_row13\" class=\"row_heading level0 row13\" >13</th>\n",
       "      <td id=\"T_8bc1a_row13_col0\" class=\"data row13 col0\" >4</td>\n",
       "      <td id=\"T_8bc1a_row13_col1\" class=\"data row13 col1\" >90004301</td>\n",
       "    </tr>\n",
       "    <tr>\n",
       "      <th id=\"T_8bc1a_level0_row14\" class=\"row_heading level0 row14\" >14</th>\n",
       "      <td id=\"T_8bc1a_row14_col0\" class=\"data row14 col0\" >a</td>\n",
       "      <td id=\"T_8bc1a_row14_col1\" class=\"data row14 col1\" >179980346</td>\n",
       "    </tr>\n",
       "    <tr>\n",
       "      <th id=\"T_8bc1a_level0_row15\" class=\"row_heading level0 row15\" >15</th>\n",
       "      <td id=\"T_8bc1a_row15_col0\" class=\"data row15 col0\" >2</td>\n",
       "      <td id=\"T_8bc1a_row15_col1\" class=\"data row15 col1\" >90005599</td>\n",
       "    </tr>\n",
       "  </tbody>\n",
       "</table>\n"
      ],
      "text/plain": [
       "<pandas.io.formats.style.Styler at 0x2297d196650>"
      ]
     },
     "execution_count": 79,
     "metadata": {},
     "output_type": "execute_result"
    }
   ],
   "source": [
    "spark_df \\\n",
    ".select(\n",
    "    F.explode(F.split(\"randtext\", \"\")).alias(\"randtextchar\"),\n",
    ") \\\n",
    ".groupBy(\n",
    "    \"randtextchar\",\n",
    ") \\\n",
    ".agg(\n",
    "    F.count(\"randtextchar\").alias(\"count\"),\n",
    ") \\\n",
    ".pandas_api().style.background_gradient(cmap ='viridis')"
   ]
  }
 ],
 "metadata": {
  "kernelspec": {
   "display_name": "machine",
   "language": "python",
   "name": "python3"
  },
  "language_info": {
   "codemirror_mode": {
    "name": "ipython",
    "version": 3
   },
   "file_extension": ".py",
   "mimetype": "text/x-python",
   "name": "python",
   "nbconvert_exporter": "python",
   "pygments_lexer": "ipython3",
   "version": "3.11.3"
  }
 },
 "nbformat": 4,
 "nbformat_minor": 2
}
